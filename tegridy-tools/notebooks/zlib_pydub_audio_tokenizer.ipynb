{
  "nbformat": 4,
  "nbformat_minor": 0,
  "metadata": {
    "colab": {
      "private_outputs": true,
      "provenance": []
    },
    "kernelspec": {
      "name": "python3",
      "display_name": "Python 3"
    },
    "language_info": {
      "name": "python"
    }
  },
  "cells": [
    {
      "cell_type": "markdown",
      "source": [
        "# zlib pydub audio tokenizer (ver. 0.5)\n",
        "\n",
        "***\n",
        "\n",
        "Powered by tegridy-tools: https://github.com/asigalov61/tegridy-tools\n",
        "\n",
        "***\n",
        "\n",
        "#### Project Los Angeles\n",
        "\n",
        "#### Tegridy Code 2024\n",
        "\n",
        "***"
      ],
      "metadata": {
        "id": "hyIKc0FnXw0F"
      }
    },
    {
      "cell_type": "markdown",
      "source": [
        "# (SETUP ENVIRONMENT)"
      ],
      "metadata": {
        "id": "1qxoTxJWjekI"
      }
    },
    {
      "cell_type": "code",
      "source": [
        "# @title Install dependencies\n",
        "!pip install pydub -U\n",
        "!wget https://github.com/asigalov61/tegridy-tools/raw/main/tegridy-tools/seed-melody.wav"
      ],
      "metadata": {
        "id": "2E8C1dCMtPCq",
        "cellView": "form"
      },
      "execution_count": null,
      "outputs": []
    },
    {
      "cell_type": "markdown",
      "source": [
        "#(TOKENIZE AND DETOKENIZE)"
      ],
      "metadata": {
        "id": "1yqU28prkcQ5"
      }
    },
    {
      "cell_type": "markdown",
      "source": [
        "## (ZLIB and PYDUB)"
      ],
      "metadata": {
        "id": "KNm4SozRkirH"
      }
    },
    {
      "cell_type": "code",
      "source": [
        "# @title zlib compressed pydub audio tokenizer\n",
        "import numpy as np\n",
        "\n",
        "from pydub import AudioSegment\n",
        "from pydub.utils import make_chunks\n",
        "\n",
        "import zlib\n",
        "\n",
        "from IPython.display import display, Audio\n",
        "\n",
        "#===============================================================================\n",
        "\n",
        "wav_audio_file = '/content/seed-melody.wav'\n",
        "\n",
        "number_of_audio_channels = 1 # Mono(1) or Stereo(2)\n",
        "audio_sample_rate = 14000 # In Hz\n",
        "audio_sample_width = 2 # In bytes\n",
        "chunk_length_ms = 1000  # chunk length in milliseconds\n",
        "downsampling_factor = 1 # Downsampling value\n",
        "tokens_range = 32 # Encoding tokens range\n",
        "\n",
        "#===============================================================================\n",
        "\n",
        "# Load the audio file\n",
        "myaudio = AudioSegment.from_file(wav_audio_file, 'wav')\n",
        "\n",
        "# Convert audio to mono and set frame rate to 16000 Hz\n",
        "myaudio = myaudio.set_channels(number_of_audio_channels)\n",
        "myaudio = myaudio.set_frame_rate(audio_sample_rate)\n",
        "myaudio = myaudio.set_sample_width(audio_sample_width)\n",
        "\n",
        "# Chunk the audio\n",
        "chunks = make_chunks(myaudio, chunk_length_ms)\n",
        "\n",
        "# Convert each chunk to a numpy array\n",
        "samples = [np.array(chunk.get_array_of_samples())[::downsampling_factor] for chunk in chunks]\n",
        "\n",
        "# Normalize samples to the range 0-1023\n",
        "normalized_samples = [np.interp(s, (s.min(), s.max()), (0, tokens_range)) for s in samples]\n",
        "\n",
        "# Convert normalized samples into tokens\n",
        "tokens = [np.asarray(s, dtype=np.int16) for s in normalized_samples]\n",
        "\n",
        "compressed_tokens = [list(zlib.compress(bytes(np.asarray(s, dtype=np.int16)))) for s in tokens]\n",
        "\n",
        "print('=' * 70)\n",
        "print('Min/Max seq_len:', len(min(compressed_tokens, key=len)), '/', len(max(compressed_tokens, key=len)))\n",
        "print('=' * 70)\n",
        "\n",
        "#===============================================================================\n",
        "\n",
        "# Convert tokens back to samples\n",
        "restored_samples = [np.frombuffer(zlib.decompress(bytes(t)), dtype=np.int16) for t in compressed_tokens]\n",
        "\n",
        "# Upsample the samples\n",
        "upsampled_samples = [np.repeat(s, downsampling_factor) for s in restored_samples]\n",
        "\n",
        "# Concatenate all chunks\n",
        "restored_samples_concat = np.concatenate(upsampled_samples)\n",
        "\n",
        "# Create a new AudioSegment instance\n",
        "audio = AudioSegment(\n",
        "    data=restored_samples_concat.tobytes(),  # convert numpy array to bytes\n",
        "    sample_width=myaudio.sample_width,  # 2 bytes\n",
        "    frame_rate=myaudio.frame_rate,  # use original frame rate\n",
        "    channels=myaudio.channels  # mono audio\n",
        ")\n",
        "\n",
        "# Increase the volume by 10 dB\n",
        "louder_audio = audio.apply_gain(50)\n",
        "\n",
        "# Export the louder audio to a new file\n",
        "louder_audio.export('louder_restored_audio.wav', format='wav')\n",
        "\n",
        "display(Audio(filename='/content/louder_restored_audio.wav', rate=audio_sample_rate))"
      ],
      "metadata": {
        "id": "73KBdRNP-vs3",
        "cellView": "form"
      },
      "execution_count": null,
      "outputs": []
    },
    {
      "cell_type": "markdown",
      "source": [
        "## (PURE PYDUB)"
      ],
      "metadata": {
        "id": "yZRtj4b-cJn2"
      }
    },
    {
      "cell_type": "code",
      "source": [
        "# @title pydub-only tokenizer without zlib compression\n",
        "import numpy as np\n",
        "\n",
        "from pydub import AudioSegment\n",
        "from pydub.utils import make_chunks\n",
        "\n",
        "from IPython.display import display, Audio\n",
        "\n",
        "#===============================================================================\n",
        "\n",
        "wav_audio_file = '/content/seed-melody.wav'\n",
        "\n",
        "number_of_audio_channels = 1 # Mono(1) or Stereo(2)\n",
        "audio_sample_rate = 16000 # In Hz\n",
        "audio_sample_width = 2 # In bytes\n",
        "chunk_length_ms = 16  # chunk length in milliseconds\n",
        "tokens_range = 129 # Encoding tokens range\n",
        "\n",
        "#===============================================================================\n",
        "\n",
        "# Load the audio file\n",
        "myaudio = AudioSegment.from_file(wav_audio_file, 'wav')\n",
        "\n",
        "# Convert audio to mono and set frame rate to 16000 Hz\n",
        "myaudio = myaudio.set_channels(number_of_audio_channels)\n",
        "myaudio = myaudio.set_frame_rate(audio_sample_rate)\n",
        "myaudio = myaudio.set_sample_width(audio_sample_width)\n",
        "\n",
        "myaudio_array = np.array(myaudio.get_array_of_samples())\n",
        "\n",
        "normalized_audio = np.interp(myaudio_array, (myaudio_array.min(), myaudio_array.max()), (0, tokens_range))\n",
        "\n",
        "# Chunk the audio\n",
        "chunks = make_chunks(normalized_audio, chunk_length_ms)\n",
        "\n",
        "# Convert normalized samples into tokens\n",
        "tokens = [np.array(s, dtype=np.int16) for s in chunks]\n",
        "\n",
        "\n",
        "print('=' * 70)\n",
        "print('Min/Max seq_len:', len(min(tokens, key=len)), '/', len(max(tokens, key=len)))\n",
        "print('=' * 70)\n",
        "\n",
        "#===============================================================================\n",
        "\n",
        "# Reverse normalization\n",
        "restored_audio_array = np.interp(tokens[:-1], (0, tokens_range), (myaudio_array.min(), myaudio_array.max()))\n",
        "\n",
        "# Concatenate all chunks\n",
        "restored_samples_concat = np.asarray(np.concatenate(restored_audio_array), dtype=np.int16)\n",
        "\n",
        "# Create a new AudioSegment instance\n",
        "audio = AudioSegment(\n",
        "    data=restored_samples_concat.tobytes(),  # convert numpy array to bytes\n",
        "    sample_width=myaudio.sample_width,  # 2 bytes\n",
        "    frame_rate=myaudio.frame_rate,  # use original frame rate\n",
        "    channels=myaudio.channels  # mono audio\n",
        ")\n",
        "\n",
        "# Export the louder audio to a new file\n",
        "audio.export('louder_restored_audio.wav', format='wav')\n",
        "\n",
        "display(Audio(filename='/content/louder_restored_audio.wav', rate=audio_sample_rate))"
      ],
      "metadata": {
        "id": "gPxxrsokcKss",
        "cellView": "form"
      },
      "execution_count": null,
      "outputs": []
    },
    {
      "cell_type": "markdown",
      "source": [
        "# Congrats! You did it :)"
      ],
      "metadata": {
        "id": "z_FjLRVCk_JI"
      }
    }
  ]
}
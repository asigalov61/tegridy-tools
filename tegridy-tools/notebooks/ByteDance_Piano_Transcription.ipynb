{
  "nbformat": 4,
  "nbformat_minor": 0,
  "metadata": {
    "colab": {
      "private_outputs": true,
      "provenance": [],
      "gpuType": "T4"
    },
    "kernelspec": {
      "name": "python3",
      "display_name": "Python 3"
    },
    "language_info": {
      "name": "python"
    },
    "accelerator": "GPU"
  },
  "cells": [
    {
      "cell_type": "markdown",
      "source": [
        "***\n",
        "\n",
        "# ByteDance Piano Transcription (Ver 2.0)\n",
        "\n",
        "***\n",
        "\n",
        "## https://github.com/qiuqiangkong/piano_transcription_inference\n",
        "\n",
        "## https://github.com/bytedance/piano_transcription\n",
        "\n",
        "## https://github.com/azuwis/pianotrans\n",
        "\n",
        "***\n",
        "\n",
        "### Project Los Angeles\n",
        "### Tegridy Code 2024\n",
        "\n",
        "***"
      ],
      "metadata": {
        "id": "X7JFKeW7HTr4"
      }
    },
    {
      "cell_type": "markdown",
      "source": [
        "# (SETUP ENVIRONMENT)"
      ],
      "metadata": {
        "id": "MFc-x5DvH_4k"
      }
    },
    {
      "cell_type": "code",
      "source": [
        "# @title Install dependencies\n",
        "!pip install git+https://github.com/asigalov61/piano_transcription_inference.git"
      ],
      "metadata": {
        "id": "cirk7Velwb6W",
        "cellView": "form"
      },
      "execution_count": null,
      "outputs": []
    },
    {
      "cell_type": "code",
      "source": [
        "# @title Import modules\n",
        "\n",
        "print('=' * 70)\n",
        "print('Loading modules...')\n",
        "\n",
        "from piano_transcription_inference import PianoTranscription, sample_rate, load_audio\n",
        "from google.colab import files\n",
        "\n",
        "print('=' * 70)\n",
        "print('Done!')\n",
        "print('Enjoy! :)')\n",
        "print('=' * 70)"
      ],
      "metadata": {
        "cellView": "form",
        "id": "sMrJO8ElhZZS"
      },
      "execution_count": null,
      "outputs": []
    },
    {
      "cell_type": "markdown",
      "source": [
        "# (TRANSCRIBE)\n",
        "\n",
        "## 1) The first run may take a long time due to the model being downloaded from Zenodo which is quite slow usually\n",
        "\n",
        "## 2) Input audio must be in WAV or MP3 format"
      ],
      "metadata": {
        "id": "4wd0mKVoH1dF"
      }
    },
    {
      "cell_type": "code",
      "source": [
        "# @title Transcribe\n",
        "\n",
        "f = ''\n",
        "\n",
        "print('=' * 70)\n",
        "print('Select Piano WAV or MP3 audio file...')\n",
        "print('=' * 70)\n",
        "uploaded_MIDI = files.upload()\n",
        "if list(uploaded_MIDI.keys()):\n",
        "  f = list(uploaded_MIDI.keys())[0]\n",
        "\n",
        "if f != '':\n",
        "\n",
        "  print('=' * 70)\n",
        "  print('File:', f)\n",
        "  print('=' * 70)\n",
        "\n",
        "  fn = f.split('.')[0]\n",
        "\n",
        "  # Load audio\n",
        "  (audio, _) = load_audio(f, sr=sample_rate, mono=True)\n",
        "\n",
        "  # Transcriptor\n",
        "  transcriptor = PianoTranscription(device='cuda')    # 'cuda' | 'cpu'\n",
        "\n",
        "  # Transcribe and write out to MIDI file\n",
        "  transcribed_dict = transcriptor.transcribe(audio, fn+'.mid')\n",
        "\n",
        "  print('=' * 70)\n",
        "  print('Done!')\n",
        "  print('=' * 70)\n",
        "\n",
        "else:\n",
        "  print('=' * 70)\n",
        "  print('No file specified...')\n",
        "  print('=' * 70)"
      ],
      "metadata": {
        "id": "laaR9o9nwDzt",
        "cellView": "form"
      },
      "execution_count": null,
      "outputs": []
    },
    {
      "cell_type": "markdown",
      "source": [
        "# Congrats! You did it! :)"
      ],
      "metadata": {
        "id": "0jKlAwVHH4G4"
      }
    }
  ]
}
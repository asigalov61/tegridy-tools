{
  "cells": [
    {
      "cell_type": "markdown",
      "metadata": {
        "gradient": {
          "editing": false,
          "id": "ac5a4cf0-d9d2-47b5-9633-b53f8d99a4d2",
          "kernelId": ""
        },
        "id": "SiTIpPjArIyr"
      },
      "source": [
        "# POP909 Dataset Converter (ver. 1.0)\n",
        "\n",
        "### https://github.com/music-x-lab/POP909-Dataset\n",
        "\n",
        "***\n",
        "\n",
        "Powered by tegridy-tools: https://github.com/asigalov61/tegridy-tools\n",
        "\n",
        "***\n",
        "\n",
        "#### Project Los Angeles\n",
        "\n",
        "#### Tegridy Code 2023\n",
        "\n",
        "***"
      ]
    },
    {
      "cell_type": "markdown",
      "metadata": {
        "gradient": {
          "editing": false,
          "id": "fa0a611c-1803-42ae-bdf6-a49b5a4e781b",
          "kernelId": ""
        },
        "id": "gOd93yV0sGd2"
      },
      "source": [
        "# (SETUP ENVIRONMENT)"
      ]
    },
    {
      "cell_type": "code",
      "execution_count": null,
      "metadata": {
        "gradient": {
          "editing": false,
          "id": "a1a45a91-d909-4fd4-b67a-5e16b971d179",
          "kernelId": ""
        },
        "id": "fX12Yquyuihc",
        "cellView": "form"
      },
      "outputs": [],
      "source": [
        "#@title Install all dependencies (run only once per session)\n",
        "!git clone https://github.com/music-x-lab/POP909-Dataset\n",
        "!git clone https://github.com/asigalov61/tegridy-tools\n",
        "!pip install tqdm"
      ]
    },
    {
      "cell_type": "code",
      "execution_count": null,
      "metadata": {
        "cellView": "form",
        "gradient": {
          "editing": false,
          "id": "b8207b76-9514-4c07-95db-95a4742e52c5",
          "kernelId": ""
        },
        "id": "z7n9vnKmug1J"
      },
      "outputs": [],
      "source": [
        "#@title Import all needed modules\n",
        "\n",
        "print('Loading needed modules. Please wait...')\n",
        "import os\n",
        "import copy\n",
        "import math\n",
        "import statistics\n",
        "import random\n",
        "\n",
        "from tqdm import tqdm\n",
        "\n",
        "if not os.path.exists('/content/Dataset'):\n",
        "    os.makedirs('/content/Dataset')\n",
        "\n",
        "if not os.path.exists('/content/Out'):\n",
        "    os.makedirs('/content/Out')\n",
        "\n",
        "print('Loading TMIDIX module...')\n",
        "os.chdir('/content/tegridy-tools/tegridy-tools')\n",
        "\n",
        "import TMIDIX\n",
        "\n",
        "print('Done!')\n",
        "\n",
        "os.chdir('/content/')\n",
        "print('Enjoy! :)')"
      ]
    },
    {
      "cell_type": "markdown",
      "source": [
        "# (FILE LIST)"
      ],
      "metadata": {
        "id": "JwrqQeie08t0"
      }
    },
    {
      "cell_type": "code",
      "source": [
        "#@title Save file list\n",
        "###########\n",
        "\n",
        "print('Loading MIDI files...')\n",
        "print('This may take a while on a large dataset in particular.')\n",
        "\n",
        "dataset_addr = \"/content/POP909-Dataset\"\n",
        "# os.chdir(dataset_addr)\n",
        "filez = list()\n",
        "for (dirpath, dirnames, filenames) in os.walk(dataset_addr):\n",
        "    filez += [os.path.join(dirpath, file) for file in filenames]\n",
        "print('=' * 70)\n",
        "\n",
        "if filez == []:\n",
        "    print('Could not find any MIDI files. Please check Dataset dir...')\n",
        "    print('=' * 70)\n",
        "\n",
        "print('Randomizing file list...')\n",
        "random.shuffle(filez)\n",
        "\n",
        "TMIDIX.Tegridy_Any_Pickle_File_Writer(filez, '/content/filez')"
      ],
      "metadata": {
        "id": "DuVWtdDNcqKh",
        "cellView": "form"
      },
      "execution_count": null,
      "outputs": []
    },
    {
      "cell_type": "code",
      "source": [
        "#@title Load file list\n",
        "filez = TMIDIX.Tegridy_Any_Pickle_File_Reader('/content/filez')\n",
        "print('Done!')"
      ],
      "metadata": {
        "cellView": "form",
        "id": "qI_adhjojrJ9"
      },
      "execution_count": null,
      "outputs": []
    },
    {
      "cell_type": "markdown",
      "source": [
        "# (PROCESS)"
      ],
      "metadata": {
        "id": "FLxHvO-wlwfU"
      }
    },
    {
      "cell_type": "code",
      "source": [
        "#@title Convert\n",
        "\n",
        "print('=' * 70)\n",
        "print('TMIDIX MIDI Processor')\n",
        "print('=' * 70)\n",
        "print('Starting up...')\n",
        "print('=' * 70)\n",
        "\n",
        "###########\n",
        "\n",
        "START_FILE_NUMBER = 0\n",
        "LAST_SAVED_BATCH_COUNT = 0\n",
        "\n",
        "input_files_count = START_FILE_NUMBER\n",
        "files_count = LAST_SAVED_BATCH_COUNT\n",
        "\n",
        "melody_chords_f = []\n",
        "stats = [0, 0, 0, 0, 0, 0, 0, 0, 0, 0, 0, 0, 0, 0, 0, 0]\n",
        "\n",
        "###########\n",
        "\n",
        "###########\n",
        "\n",
        "print('Processing MIDI files. Please wait...')\n",
        "print('=' * 70)\n",
        "\n",
        "for f in tqdm(filez[START_FILE_NUMBER:]):\n",
        "    try:\n",
        "        input_files_count += 1\n",
        "\n",
        "        fn = os.path.basename(f)\n",
        "        fn1 = fn.split('.')[0]\n",
        "\n",
        "        # Filtering out giant MIDIs\n",
        "        file_size = os.path.getsize(f)\n",
        "\n",
        "        if file_size < 200000 and fn.split('.')[1] == 'mid':\n",
        "\n",
        "          #=======================================================\n",
        "          # START PROCESSING\n",
        "\n",
        "          # Convering MIDI to ms score with MIDI.py module\n",
        "          score = TMIDIX.midi2ms_score(open(f, 'rb').read())\n",
        "\n",
        "          events_matrix1 = []\n",
        "          itrack = 1\n",
        "          track = 0\n",
        "          while itrack < len(score):\n",
        "              for event in score[itrack]:         \n",
        "                  if event[0] == 'note':\n",
        "                      if itrack == 2:\n",
        "                        event[3] = 10\n",
        "                      if itrack == 3:\n",
        "                        event[3] = 11\n",
        "                      if itrack == 4:\n",
        "                        event[3] = 12\n",
        "                      events_matrix1.append(event)\n",
        "              itrack += 1\n",
        "\n",
        "          if min([y[1] for y in events_matrix1]) >=0 and min([y[2] for y in events_matrix1]) >= 0:\n",
        "\n",
        "            events_matrix1.sort(key=lambda x: x[4], reverse=True)\n",
        "            events_matrix1.sort(key=lambda x: x[1])\n",
        "\n",
        "            events_matrix2 = []\n",
        "\n",
        "            for e in events_matrix1:\n",
        "              if e[1] >= 0 and e[2] > 0:\n",
        "                if e[3] == 10:\n",
        "                  e[3] = 3 # Melodies / Violin\n",
        "                \n",
        "                if e[3] == 11:\n",
        "                  e[3] = 7 # Bridges / Sax\n",
        "\n",
        "                if e[3] == 12:\n",
        "                  e[3] = 0 # Accompaniment / Piano\n",
        "\n",
        "                events_matrix2.append(e)\n",
        "\n",
        "            events_matrix2.sort(key=lambda x: x[4], reverse=True)\n",
        "            events_matrix2.sort(key=lambda x: x[1])\n",
        "\n",
        "\n",
        "            chords = []\n",
        "            cho = []\n",
        "            pe = events_matrix2[0]\n",
        "            for e in events_matrix2:\n",
        "              \n",
        "              if e[1] - pe[1] == 0:\n",
        "                cho.append(e)\n",
        "              else:\n",
        "                if len(cho) > 0:\n",
        "                  cho.sort(key=lambda x: x[4], reverse=True)\n",
        "                  chords.append(cho)\n",
        "                cho = []\n",
        "                cho.append(e)\n",
        "\n",
        "              pe = e\n",
        "            \n",
        "            if len(cho) > 0:\n",
        "              cho.sort(key=lambda x: x[4], reverse=True)\n",
        "              chords.append(cho)\n",
        "\n",
        "            for c in chords:\n",
        "              if c[-1][4] <= 53:\n",
        "                c[-1][3] = 2 # Bass Melody / Fretless Bass\n",
        "\n",
        "            SONG = []\n",
        "\n",
        "            time = 0\n",
        "            pt = chords[0][0][1]\n",
        "            for c in chords:\n",
        "              pct = c[0][1]\n",
        "              time += c[0][1] - pt\n",
        "              for cc in c:\n",
        "                cc[1] = time\n",
        "              SONG.extend(c)\n",
        "              pt = pct\n",
        "\n",
        "            SONG.sort(key=lambda x: x[4], reverse=True)\n",
        "            SONG.sort(key=lambda x: x[1])\n",
        "\n",
        "            detailed_stats = TMIDIX.Tegridy_SONG_to_MIDI_Converter(SONG,\n",
        "                                                      output_signature = 'POP909-'+fn1,  \n",
        "                                                      output_file_name = '/content/Out/POP909-'+fn1, \n",
        "                                                      track_name='Project Los Angeles',\n",
        "                                                      list_of_MIDI_patches=[0, 24, 35, 40, 42, 46, 56, 65, 73, 0, 53, 19, 0, 0, 0, 0],\n",
        "                                                      number_of_ticks_per_quarter=500,\n",
        "                                                      verbose=False)\n",
        "\n",
        "\n",
        "            #=======================================================\n",
        "            \n",
        "            # Processed files counter\n",
        "            files_count += 1\n",
        "   \n",
        "    except KeyboardInterrupt:\n",
        "        print('Saving current progress and quitting...')\n",
        "        break  \n",
        "\n",
        "    except Exception as ex:\n",
        "        print('WARNING !!!')\n",
        "        print('=' * 70)\n",
        "        print('Bad MIDI:', f)\n",
        "        print('Error detected:', ex)\n",
        "        print('=' * 70)\n",
        "        continue\n",
        "\n",
        "print('=' * 70)\n",
        "print('Done!')   \n",
        "print('=' * 70)"
      ],
      "metadata": {
        "cellView": "form",
        "id": "8FKDatJ-5pLC"
      },
      "execution_count": null,
      "outputs": []
    },
    {
      "cell_type": "markdown",
      "metadata": {
        "id": "YzCMd94Tu_gz"
      },
      "source": [
        "# Congrats! You did it! :)"
      ]
    }
  ],
  "metadata": {
    "colab": {
      "private_outputs": true,
      "provenance": [],
      "machine_shape": "hm"
    },
    "kernelspec": {
      "display_name": "Python 3 (ipykernel)",
      "language": "python",
      "name": "python3"
    },
    "language_info": {
      "codemirror_mode": {
        "name": "ipython",
        "version": 3
      },
      "file_extension": ".py",
      "mimetype": "text/x-python",
      "name": "python",
      "nbconvert_exporter": "python",
      "pygments_lexer": "ipython3",
      "version": "3.9.7"
    },
    "gpuClass": "standard"
  },
  "nbformat": 4,
  "nbformat_minor": 0
}
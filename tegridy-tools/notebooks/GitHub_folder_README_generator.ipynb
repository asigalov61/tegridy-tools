{
  "nbformat": 4,
  "nbformat_minor": 0,
  "metadata": {
    "colab": {
      "private_outputs": true,
      "provenance": []
    },
    "kernelspec": {
      "name": "python3",
      "display_name": "Python 3"
    },
    "language_info": {
      "name": "python"
    }
  },
  "cells": [
    {
      "cell_type": "markdown",
      "source": [
        "# GitHub folder README generator (ver. 0.5)\n",
        "\n",
        "***\n",
        "\n",
        "Powered by tegridy-tools: https://github.com/asigalov61/tegridy-tools\n",
        "\n",
        "***\n",
        "\n",
        "#### Project Los Angeles\n",
        "\n",
        "#### Tegridy Code 2024\n",
        "\n",
        "***"
      ],
      "metadata": {
        "id": "6qU4vkbvm-c9"
      }
    },
    {
      "cell_type": "code",
      "source": [
        "!git clone --depth 1 https://github.com/asigalov61/tegridy-tools"
      ],
      "metadata": {
        "id": "MQ1OVSN9U_e8"
      },
      "execution_count": null,
      "outputs": []
    },
    {
      "cell_type": "code",
      "source": [
        "import os\n",
        "import json\n",
        "\n",
        "def extract_summary(notebook_path):\n",
        "    with open(notebook_path, 'r') as f:\n",
        "        notebook = json.load(f)\n",
        "        for cell in notebook['cells']:\n",
        "            if cell['cell_type'] == 'markdown':\n",
        "                source = ''.join(cell['source'])\n",
        "                lines = source.split('\\n')\n",
        "                summary_lines = [line.replace('#', '') for line in lines if line and (line[:2] == '# ' or line[:3] == '## ')]\n",
        "                if summary_lines:\n",
        "                    return '\\n ###'.join(summary_lines)\n",
        "    return None  # return None if no suitable markdown cell is found\n",
        "\n",
        "def create_readme(directory, author, project, company, year):\n",
        "\n",
        "    print('=' * 70)\n",
        "    print('Creating README...')\n",
        "\n",
        "    with open('README.md', 'w') as readme:\n",
        "\n",
        "        # Write header\n",
        "        readme.write(f'# **{os.path.basename(directory).upper()}** \\n')\n",
        "        readme.write(f'***\\n')\n",
        "        readme.write(f'## This directory contains the following Jupyter/Google Colab notebooks:\\n\\n')\n",
        "\n",
        "        # Write summaries\n",
        "        for filename in os.listdir(directory):\n",
        "            if filename.endswith('.ipynb'):\n",
        "                summary = extract_summary(os.path.join(directory, filename))\n",
        "                if summary:\n",
        "                    readme.write(f'***\\n')\n",
        "                    readme.write(f'## {filename}\\n\\n')\n",
        "                    readme.write(f'### {summary}\\n\\n')\n",
        "\n",
        "        readme.write(f'***\\n')\n",
        "        readme.write(f'### {author}\\n\\n')\n",
        "        readme.write(f'### {project}\\n\\n')\n",
        "        readme.write(f'### {company}\\n\\n')\n",
        "        readme.write(f'### {year}\\n\\n')\n",
        "\n",
        "    print('=' * 70)\n",
        "    print('Done!')\n",
        "    print('=' * 70)"
      ],
      "metadata": {
        "id": "nWxgAvgaYxot"
      },
      "execution_count": null,
      "outputs": []
    },
    {
      "cell_type": "code",
      "source": [
        "create_readme('/content/tegridy-tools/tegridy-tools/notebooks',\n",
        "              'Aleksandr Lev',\n",
        "              'Project Los Angeles',\n",
        "              'Tegridy Code',\n",
        "              '2024')"
      ],
      "metadata": {
        "id": "wQg_7HFInYDX"
      },
      "execution_count": null,
      "outputs": []
    }
  ]
}
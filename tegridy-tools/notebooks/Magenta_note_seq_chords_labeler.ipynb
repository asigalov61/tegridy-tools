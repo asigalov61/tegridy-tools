{
  "nbformat": 4,
  "nbformat_minor": 0,
  "metadata": {
    "colab": {
      "private_outputs": true,
      "provenance": []
    },
    "kernelspec": {
      "name": "python3",
      "display_name": "Python 3"
    },
    "language_info": {
      "name": "python"
    }
  },
  "cells": [
    {
      "cell_type": "markdown",
      "source": [
        "# Magenta note-seq chords labeler (ver. 0.5)\n",
        "\n",
        "***\n",
        "\n",
        "Powered by tegridy-tools: https://github.com/asigalov61/tegridy-tools\n",
        "\n",
        "***\n",
        "\n",
        "#### Project Los Angeles\n",
        "\n",
        "#### Tegridy Code 2024\n",
        "\n",
        "***"
      ],
      "metadata": {
        "id": "wBQGD9p5snEL"
      }
    },
    {
      "cell_type": "markdown",
      "source": [
        "# (SETUP ENVIRONMENT)"
      ],
      "metadata": {
        "id": "7EpdlMIso8iT"
      }
    },
    {
      "cell_type": "code",
      "source": [
        "# @title Install dependencies\n",
        "!git clone --depth 1 https://github.com/asigalov61/tegridy-tools\n",
        "!pip install note-seq -U"
      ],
      "metadata": {
        "id": "oDO6tYH0zUlI",
        "cellView": "form"
      },
      "execution_count": null,
      "outputs": []
    },
    {
      "cell_type": "code",
      "source": [
        "# @title Import modules\n",
        "from note_seq import chord_inference\n",
        "from note_seq import chords_lib, chord_symbols_lib, sequences_lib\n",
        "from note_seq.protobuf import music_pb2"
      ],
      "metadata": {
        "id": "zcdp5c4exIU1",
        "cellView": "form"
      },
      "execution_count": null,
      "outputs": []
    },
    {
      "cell_type": "markdown",
      "source": [
        "# (EXTRACT CHORDS)"
      ],
      "metadata": {
        "id": "hdy-sxYMqve_"
      }
    },
    {
      "cell_type": "code",
      "source": [
        "# @title Extract chords\n",
        "melody_ns1 = midi_io.midi_file_to_note_sequence('/content/tegridy-tools/tegridy-tools/seed2.mid')\n",
        "\n",
        "# Quantization\n",
        "melody_ns1 = sequences_lib.quantize_note_sequence(melody_ns, 16)\n",
        "\n",
        "# Extracting chords\n",
        "chord_inference.infer_chords_for_sequence(melody_ns1)\n",
        "\n",
        "# Assuming `sequence` is your NoteSequence object\n",
        "chords = [annotation.text for annotation in melody_ns1.text_annotations\n",
        "          if annotation.annotation_type == music_pb2.NoteSequence.TextAnnotation.CHORD_SYMBOL]\n",
        "\n",
        "#chords_times = [annotation.quantized_step / 64 for annotation in melody_ns1.text_annotations]\n",
        "chords_times = [annotation.time for annotation in melody_ns1.text_annotations]\n",
        "\n",
        "print(chords)\n",
        "print(chords_times)"
      ],
      "metadata": {
        "id": "4h9K-HnxKop0",
        "cellView": "form"
      },
      "execution_count": null,
      "outputs": []
    },
    {
      "cell_type": "markdown",
      "source": [
        "# (CONVERT CHORDS TO MIDI)"
      ],
      "metadata": {
        "id": "cJdXKjXwrGpn"
      }
    },
    {
      "cell_type": "code",
      "source": [
        "# @title Convert extracted chords to MIDI\n",
        "# Assuming `chords` is a list of chord symbols and `chord_times` is a list of chord times\n",
        "chord_progression = chords_lib.ChordProgression(chords)\n",
        "\n",
        "# Create a new NoteSequence\n",
        "sequence = music_pb2.NoteSequence()\n",
        "\n",
        "# Add the chords to the sequence\n",
        "for i in range(len(chords)):\n",
        "    chord_annotation = sequence.text_annotations.add()\n",
        "    chord_annotation.text = chords[i]\n",
        "    chord_annotation.time = chords_times[i]\n",
        "    chord_annotation.annotation_type = music_pb2.NoteSequence.TextAnnotation.CHORD_SYMBOL\n",
        "\n",
        "    # Get the pitches of the chord symbol\n",
        "    pitches = chord_symbols_lib.chord_symbol_pitches(chords[i])\n",
        "\n",
        "    # Sort the pitches in ascending order\n",
        "    pitches.sort()\n",
        "\n",
        "    # Add a note for each pitch, setting the octave based on its position in the chord\n",
        "    for j, pitch in enumerate(pitches):\n",
        "        note = sequence.notes.add()\n",
        "        note.pitch = 60 + pitch + (j // len(pitches)) * 12\n",
        "        note.start_time = chords_times[i]\n",
        "        note.end_time = chords_times[i + 1] if i + 1 < len(chords_times) else chords_times[i] + 1.0  # or however long you want the note to last\n",
        "        note.velocity = 80  # or however loud you want the note to be\n",
        "\n",
        "# Quantize the sequence\n",
        "sequence = sequences_lib.quantize_note_sequence_absolute(sequence, steps_per_second=64)\n",
        "\n",
        "# Writing final MIDI\n",
        "midi_io.sequence_proto_to_midi_file(sequence, 'Generated_Chords_Composition.mid')"
      ],
      "metadata": {
        "id": "1vRRMHAd-nkF",
        "cellView": "form"
      },
      "execution_count": null,
      "outputs": []
    },
    {
      "cell_type": "markdown",
      "source": [
        "# Congrats! You did it! :)"
      ],
      "metadata": {
        "id": "fYiwWu4jqKt9"
      }
    }
  ]
}
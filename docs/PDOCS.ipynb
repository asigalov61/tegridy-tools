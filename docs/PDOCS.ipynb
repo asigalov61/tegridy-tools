{
 "cells": [
  {
   "cell_type": "code",
   "execution_count": 1,
   "id": "98fc7f90-26f3-4bae-bfb4-51b8d5509bd0",
   "metadata": {},
   "outputs": [
    {
     "name": "stdout",
     "output_type": "stream",
     "text": [
      "site\n"
     ]
    }
   ],
   "source": [
    "!pdocs as_html ./TMIDIX.py"
   ]
  },
  {
   "cell_type": "code",
   "execution_count": null,
   "id": "c5b83c6d-4aca-466d-9733-39780d24a1c6",
   "metadata": {},
   "outputs": [],
   "source": []
  }
 ],
 "metadata": {
  "kernelspec": {
   "display_name": "Python 3 (ipykernel)",
   "language": "python",
   "name": "python3"
  },
  "language_info": {
   "codemirror_mode": {
    "name": "ipython",
    "version": 3
   },
   "file_extension": ".py",
   "mimetype": "text/x-python",
   "name": "python",
   "nbconvert_exporter": "python",
   "pygments_lexer": "ipython3",
   "version": "3.12.7"
  }
 },
 "nbformat": 4,
 "nbformat_minor": 5
}

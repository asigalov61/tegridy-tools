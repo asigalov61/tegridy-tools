{
  "cells": [
    {
      "cell_type": "markdown",
      "metadata": {
        "gradient": {
          "editing": false,
          "id": "ac5a4cf0-d9d2-47b5-9633-b53f8d99a4d2",
          "kernelId": ""
        },
        "id": "SiTIpPjArIyr"
      },
      "source": [
        "# MIDIs to Images Converter (ver. 1.0)\n",
        "\n",
        "***\n",
        "\n",
        "Powered by tegridy-tools: https://github.com/asigalov61/tegridy-tools\n",
        "\n",
        "***\n",
        "\n",
        "#### Project Los Angeles\n",
        "\n",
        "#### Tegridy Code 2023\n",
        "\n",
        "***"
      ]
    },
    {
      "cell_type": "markdown",
      "metadata": {
        "gradient": {
          "editing": false,
          "id": "fa0a611c-1803-42ae-bdf6-a49b5a4e781b",
          "kernelId": ""
        },
        "id": "gOd93yV0sGd2"
      },
      "source": [
        "# (SETUP ENVIRONMENT)"
      ]
    },
    {
      "cell_type": "code",
      "execution_count": null,
      "metadata": {
        "cellView": "form",
        "gradient": {
          "editing": false,
          "id": "a1a45a91-d909-4fd4-b67a-5e16b971d179",
          "kernelId": ""
        },
        "id": "fX12Yquyuihc"
      },
      "outputs": [],
      "source": [
        "#@title Install all dependencies (run only once per session)\n",
        "\n",
        "!git clone https://github.com/asigalov61/tegridy-tools\n",
        "!pip install tqdm"
      ]
    },
    {
      "cell_type": "code",
      "execution_count": null,
      "metadata": {
        "cellView": "form",
        "gradient": {
          "editing": false,
          "id": "b8207b76-9514-4c07-95db-95a4742e52c5",
          "kernelId": ""
        },
        "id": "z7n9vnKmug1J"
      },
      "outputs": [],
      "source": [
        "#@title Import all needed modules\n",
        "\n",
        "print('Loading needed modules. Please wait...')\n",
        "import os\n",
        "\n",
        "import math\n",
        "import statistics\n",
        "import random\n",
        "\n",
        "from collections import Counter\n",
        "\n",
        "from tqdm import tqdm\n",
        "\n",
        "if not os.path.exists('/content/Dataset'):\n",
        "    os.makedirs('/content/Dataset')\n",
        "\n",
        "if not os.path.exists('/content/Images'):\n",
        "    os.makedirs('/content/Images')\n",
        "\n",
        "print('Loading TMIDIX module...')\n",
        "os.chdir('/content/tegridy-tools/tegridy-tools')\n",
        "\n",
        "import TMIDIX\n",
        "\n",
        "import matplotlib.pyplot as plt\n",
        "\n",
        "print('Done!')\n",
        "\n",
        "os.chdir('/content/')\n",
        "print('Enjoy! :)')"
      ]
    },
    {
      "cell_type": "markdown",
      "source": [
        "# (DOWNLOAD AND UNZIP SAMPLE DATASET)"
      ],
      "metadata": {
        "id": "IDybEm0PgkW4"
      }
    },
    {
      "cell_type": "code",
      "source": [
        "# @title Download and unzip sample MIDI dataset\n",
        "%cd /content/Dataset\n",
        "\n",
        "!wget https://github.com/asigalov61/Tegridy-MIDI-Dataset/raw/master/Tegridy-Children-Songs-CC-BY-NC-SA.zip\n",
        "\n",
        "!unzip Tegridy-Children-Songs-CC-BY-NC-SA.zip\n",
        "\n",
        "!rm Tegridy-Children-Songs-CC-BY-NC-SA.zip\n",
        "\n",
        "%cd /content/"
      ],
      "metadata": {
        "id": "UyfROzFdgox_",
        "cellView": "form"
      },
      "execution_count": null,
      "outputs": []
    },
    {
      "cell_type": "markdown",
      "metadata": {
        "id": "JwrqQeie08t0"
      },
      "source": [
        "# (FILE LIST)"
      ]
    },
    {
      "cell_type": "code",
      "execution_count": null,
      "metadata": {
        "cellView": "form",
        "id": "DuVWtdDNcqKh"
      },
      "outputs": [],
      "source": [
        "#@title Save file list\n",
        "###########\n",
        "\n",
        "print('Loading MIDI files...')\n",
        "print('This may take a while on a large dataset in particular.')\n",
        "\n",
        "dataset_addr = \"/content/Dataset\"\n",
        "# os.chdir(dataset_addr)\n",
        "filez = list()\n",
        "for (dirpath, dirnames, filenames) in os.walk(dataset_addr):\n",
        "    filez += [os.path.join(dirpath, file) for file in filenames]\n",
        "print('=' * 70)\n",
        "\n",
        "if filez == []:\n",
        "    print('Could not find any MIDI files. Please check Dataset dir...')\n",
        "    print('=' * 70)\n",
        "\n",
        "print('Randomizing file list...')\n",
        "random.shuffle(filez)\n",
        "print('Done!')"
      ]
    },
    {
      "cell_type": "markdown",
      "metadata": {
        "id": "FLxHvO-wlwfU"
      },
      "source": [
        "# (PROCESS MIDIs)"
      ]
    },
    {
      "cell_type": "code",
      "source": [
        "#@title Process MIDIs with TMIDIX MIDI processor\n",
        "\n",
        "print('=' * 70)\n",
        "print('TMIDIX MIDI Processor')\n",
        "print('=' * 70)\n",
        "print('Starting up...')\n",
        "print('=' * 70)\n",
        "\n",
        "###########\n",
        "\n",
        "START_FILE_NUMBER = 0\n",
        "LAST_SAVED_BATCH_COUNT = 0\n",
        "\n",
        "input_files_count = START_FILE_NUMBER\n",
        "files_count = LAST_SAVED_BATCH_COUNT\n",
        "\n",
        "melody_chords_f = []\n",
        "\n",
        "stats = [0] * 129\n",
        "\n",
        "avg_durs = []\n",
        "\n",
        "avg_times = []\n",
        "\n",
        "print('Processing MIDI files. Please wait...')\n",
        "print('=' * 70)\n",
        "\n",
        "for f in tqdm(filez[START_FILE_NUMBER:]):\n",
        "\n",
        "  try:\n",
        "\n",
        "        input_files_count += 1\n",
        "\n",
        "        fn = os.path.basename(f)\n",
        "        fn1 = fn.split('.mid')[0]\n",
        "\n",
        "        # Filtering out giant MIDIs\n",
        "        file_size = os.path.getsize(f)\n",
        "\n",
        "        if file_size <= 1000000:\n",
        "\n",
        "          #=======================================================\n",
        "          # START PROCESSING\n",
        "\n",
        "          # Convering MIDI to ms score with MIDI.py module\n",
        "          score = TMIDIX.midi2single_track_ms_score(open(f, 'rb').read(), recalculate_channels=False)\n",
        "\n",
        "          # INSTRUMENTS CONVERSION CYCLE\n",
        "          events_matrix = []\n",
        "          itrack = 1\n",
        "          patches = [0, 0, 0, 0, 0, 0, 0, 0, 0, 0, 0, 0, 0, 0, 0, 0]\n",
        "\n",
        "          while itrack < len(score):\n",
        "              for event in score[itrack]:\n",
        "                  if event[0] == 'note' or event[0] == 'patch_change':\n",
        "                      events_matrix.append(event)\n",
        "              itrack += 1\n",
        "\n",
        "          events_matrix.sort(key=lambda x: x[1])\n",
        "\n",
        "          events_matrix1 = []\n",
        "\n",
        "          for event in events_matrix:\n",
        "                  if event[0] == 'patch_change':\n",
        "                        patches[event[2]] = event[3]\n",
        "\n",
        "                  if event[0] == 'note':\n",
        "                    if event[3] != 9:\n",
        "                        event.extend([patches[event[3]]])\n",
        "\n",
        "                        if events_matrix1:\n",
        "                            if (event[1] == events_matrix1[-1][1]):\n",
        "                                if ([event[3], event[4]] != events_matrix1[-1][3:5]):\n",
        "                                    events_matrix1.append(event)\n",
        "                            else:\n",
        "                                events_matrix1.append(event)\n",
        "\n",
        "                        else:\n",
        "                            events_matrix1.append(event)\n",
        "\n",
        "          if len(events_matrix1) > 0:\n",
        "            if min([e[1] for e in events_matrix1]) >= 0 and min([e[2] for e in events_matrix1]) >= 0:\n",
        "\n",
        "              #=======================================================\n",
        "\n",
        "              for e in events_matrix1:\n",
        "                e[1] = int(e[1] / 32)\n",
        "                e[2] = int(e[2] / 32)\n",
        "\n",
        "              # Sorting by pitch, then by start-time\n",
        "              events_matrix1.sort(key=lambda x: x[4], reverse=True)\n",
        "              events_matrix1.sort(key=lambda x: x[1])\n",
        "\n",
        "              #=======================================================\n",
        "\n",
        "              pe = events_matrix1[0]\n",
        "\n",
        "              times = []\n",
        "\n",
        "              abs_time = 0\n",
        "\n",
        "              melody_chords = []\n",
        "\n",
        "              for e in events_matrix1:\n",
        "\n",
        "                # Cliping all values...\n",
        "                time = max(0, min(127, e[1]-pe[1]))\n",
        "                dur = max(1, min(127, e[2]))\n",
        "                ptc = max(1, min(127, e[4]))\n",
        "\n",
        "                cha = max(0, min(15, e[3]))\n",
        "\n",
        "                pat = max(0, min(127, e[6]))\n",
        "\n",
        "                times.append(max(0, e[1]-pe[1]))\n",
        "\n",
        "                abs_time += time\n",
        "\n",
        "                melody_chords.append([time, dur, ptc, pat])\n",
        "\n",
        "                pe = e\n",
        "\n",
        "              melody_chords_f.append([abs_time, melody_chords, fn1])\n",
        "\n",
        "  except KeyboardInterrupt:\n",
        "    print('SAVING PROGRESS AND QUITTING...')\n",
        "    print('=' * 70)\n",
        "    break\n",
        "\n",
        "  except Exception as ex:\n",
        "      print('WARNING !!!')\n",
        "      print('=' * 70)\n",
        "      print('Bad MIDI:', f)\n",
        "      print('Error detected:', ex)\n",
        "      print('=' * 70)\n",
        "      continue\n",
        "\n",
        "print('DONE !!!')\n",
        "print('=' * 70)"
      ],
      "metadata": {
        "cellView": "form",
        "id": "7Q_swQYWYPIu"
      },
      "execution_count": null,
      "outputs": []
    },
    {
      "cell_type": "markdown",
      "source": [
        "# (CONVERT MIDIs TO IMAGES)"
      ],
      "metadata": {
        "id": "hES7TGquFTnl"
      }
    },
    {
      "cell_type": "code",
      "source": [
        "# @title Convert processed MIDIs to images\n",
        "image_resolution = 512 # @param {type:\"slider\", min:128, max:1024, step:128}\n",
        "MIDI_notes_range = 96 # @param {type:\"slider\", min:64, max:128, step:8}\n",
        "timings_density = 32 # @param {type:\"slider\", min:32, max:128, step:16}\n",
        "\n",
        "RESOLUTION = image_resolution\n",
        "RANGE = MIDI_notes_range\n",
        "TIMINGS = timings_density\n",
        "\n",
        "print('=' * 70)\n",
        "print('Converting to images... Please wait...')\n",
        "print('=' * 70)\n",
        "\n",
        "for m in tqdm(melody_chords_f):\n",
        "\n",
        "  try:\n",
        "\n",
        "    matrix = []\n",
        "\n",
        "    for i in range(m[0] * TIMINGS):\n",
        "      matrix.append([0] * RANGE)\n",
        "\n",
        "    a_time = 0\n",
        "\n",
        "    for i in range(len(m[1])):\n",
        "      note = m[1][i]\n",
        "\n",
        "      a_time += note[0]\n",
        "\n",
        "      for j in range(note[1]):\n",
        "        matrix[a_time+j][max(0, min((RANGE, note[2]-(128-RANGE))))] = (note[3] + 1) + 256\n",
        "\n",
        "\n",
        "    matrix2 = []\n",
        "\n",
        "    for i in range(RESOLUTION):\n",
        "      matrix2.append([0] * RESOLUTION)\n",
        "\n",
        "    for i in range(RESOLUTION // RANGE):\n",
        "      mat = matrix[(i * RESOLUTION):((i+1) * RESOLUTION)]\n",
        "\n",
        "      for j in range(len(mat)):\n",
        "\n",
        "        for k in range(RANGE):\n",
        "          matrix2[j][k+(i * RANGE)] = mat[j][k]\n",
        "\n",
        "    x = []\n",
        "    y = []\n",
        "\n",
        "    plt.imshow(matrix2)\n",
        "    plt.savefig('/content/Images/'+m[2]+'.png', dpi=300)\n",
        "    # plt.show()\n",
        "    plt.close()\n",
        "\n",
        "  except KeyboardInterrupt:\n",
        "    print('SAVING PROGRESS AND QUITTING...')\n",
        "    print('=' * 70)\n",
        "    break\n",
        "\n",
        "  except Exception as ex:\n",
        "      print('WARNING !!!')\n",
        "      print('=' * 70)\n",
        "      print('Bad MIDI:', m[2])\n",
        "      print('Error detected:', ex)\n",
        "      print('=' * 70)\n",
        "      continue\n",
        "\n",
        "print('Done!')\n",
        "print('=' * 70)"
      ],
      "metadata": {
        "id": "xB-iG854IjCE",
        "cellView": "form"
      },
      "execution_count": null,
      "outputs": []
    },
    {
      "cell_type": "markdown",
      "metadata": {
        "id": "YzCMd94Tu_gz"
      },
      "source": [
        "# Congrats! You did it! :)"
      ]
    }
  ],
  "metadata": {
    "colab": {
      "private_outputs": true,
      "provenance": []
    },
    "kernelspec": {
      "display_name": "Python 3",
      "name": "python3"
    },
    "language_info": {
      "codemirror_mode": {
        "name": "ipython",
        "version": 3
      },
      "file_extension": ".py",
      "mimetype": "text/x-python",
      "name": "python",
      "nbconvert_exporter": "python",
      "pygments_lexer": "ipython3",
      "version": "3.9.7"
    }
  },
  "nbformat": 4,
  "nbformat_minor": 0
}
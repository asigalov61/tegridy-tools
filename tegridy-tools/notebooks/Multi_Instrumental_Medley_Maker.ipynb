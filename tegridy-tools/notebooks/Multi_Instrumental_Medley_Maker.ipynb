{
  "cells": [
    {
      "cell_type": "markdown",
      "metadata": {
        "gradient": {
          "editing": false,
          "id": "ac5a4cf0-d9d2-47b5-9633-b53f8d99a4d2",
          "kernelId": ""
        },
        "id": "SiTIpPjArIyr"
      },
      "source": [
        "# Multi-Instrumental Medley Maker (ver. 1.0)\n",
        "\n",
        "***\n",
        "\n",
        "Powered by tegridy-tools: https://github.com/asigalov61/tegridy-tools\n",
        "\n",
        "***\n",
        "\n",
        "#### Project Los Angeles\n",
        "\n",
        "#### Tegridy Code 2023\n",
        "\n",
        "***"
      ]
    },
    {
      "cell_type": "markdown",
      "metadata": {
        "gradient": {
          "editing": false,
          "id": "fa0a611c-1803-42ae-bdf6-a49b5a4e781b",
          "kernelId": ""
        },
        "id": "gOd93yV0sGd2"
      },
      "source": [
        "# (Setup Environment)"
      ]
    },
    {
      "cell_type": "code",
      "execution_count": null,
      "metadata": {
        "gradient": {
          "editing": false,
          "id": "a1a45a91-d909-4fd4-b67a-5e16b971d179",
          "kernelId": ""
        },
        "id": "fX12Yquyuihc",
        "cellView": "form"
      },
      "outputs": [],
      "source": [
        "#@title Install all dependencies (run only once per session)\n",
        "\n",
        "!git clone https://github.com/asigalov61/tegridy-tools\n",
        "\n",
        "!pip install tqdm"
      ]
    },
    {
      "cell_type": "code",
      "execution_count": null,
      "metadata": {
        "cellView": "form",
        "gradient": {
          "editing": false,
          "id": "b8207b76-9514-4c07-95db-95a4742e52c5",
          "kernelId": ""
        },
        "id": "z7n9vnKmug1J"
      },
      "outputs": [],
      "source": [
        "#@title Import all needed modules\n",
        "\n",
        "print('Loading needed modules. Please wait...')\n",
        "import os\n",
        "import random\n",
        "import copy\n",
        "from tqdm import tqdm\n",
        "\n",
        "if not os.path.exists('/content/Dataset'):\n",
        "    os.makedirs('/content/Dataset')\n",
        "\n",
        "print('Loading TMIDIX module...')\n",
        "os.chdir('/content/tegridy-tools/tegridy-tools')\n",
        "import TMIDIX\n",
        "\n",
        "os.chdir('/content/')"
      ]
    },
    {
      "cell_type": "code",
      "source": [
        "#@title Process MIDIs with TMIDIX MIDI Processor\n",
        "\n",
        "full_path_to_MIDI_dataset_directory = \"/content/Dataset/\" #@param {type:\"string\"}\n",
        "sorted_files_loading_order = False # @param {type:\"boolean\"}\n",
        "dataset_ratio = 1 #@param {type:\"slider\", min:0.1, max:1, step:0.1}\n",
        "pause_length_ms = 4000 # @param {type:\"slider\", min:0, max:8000, step:1000}\n",
        "full_path_to_save_processed_MIDIs = \"/content/Multi_Instrumental_Medley_Maker_Processed_MIDIs\" #@param {type:\"string\"}\n",
        "\n",
        "print('=' * 70)\n",
        "print('TMIDIX MIDI Processor')\n",
        "print('Starting up...')\n",
        "print('=' * 70)\n",
        "\n",
        "###########\n",
        "\n",
        "files_count = 0\n",
        "\n",
        "gfiles = []\n",
        "\n",
        "melody_chords_f = []\n",
        "\n",
        "###########\n",
        "\n",
        "print('Loading MIDI files...')\n",
        "print('This may take a while on a large dataset in particular.')\n",
        "\n",
        "dataset_addr = full_path_to_MIDI_dataset_directory\n",
        "\n",
        "filez = list()\n",
        "\n",
        "for (dirpath, dirnames, filenames) in os.walk(dataset_addr):\n",
        "    filez += [os.path.join(dirpath, file) for file in filenames]\n",
        "\n",
        "print('=' * 70)\n",
        "print('Done!')\n",
        "print('=' * 70)\n",
        "\n",
        "if not filez:\n",
        "    print('Could not find any MIDI files. Please check Dataset dir...')\n",
        "    print('=' * 70)\n",
        "\n",
        "else:\n",
        "\n",
        "  if sorted_files_loading_order:\n",
        "      print('Sorting files...')\n",
        "      filez.sort()\n",
        "      print('=' * 70)\n",
        "      print('Done!')\n",
        "      print('=' * 70)\n",
        "  else:\n",
        "      print('Randomizing file list...')\n",
        "      random.shuffle(filez)\n",
        "      print('=' * 70)\n",
        "      print('Done!')\n",
        "      print('=' * 70)\n",
        "\n",
        "  print('Processing MIDI files. Please wait...')\n",
        "  print('=' * 70)\n",
        "\n",
        "  for f in tqdm(filez[:int(len(filez) * dataset_ratio)]):\n",
        "      try:\n",
        "          fn = os.path.basename(f)\n",
        "          fn1 = fn.split('.')[0]\n",
        "\n",
        "          files_count += 1\n",
        "\n",
        "          #print('Loading MIDI file...')\n",
        "          score = TMIDIX.midi2single_track_ms_score(open(f, 'rb').read(), recalculate_channels=False)\n",
        "\n",
        "          events_matrix1 = []\n",
        "\n",
        "          itrack = 1\n",
        "\n",
        "          while itrack < len(score):\n",
        "              for event in score[itrack]:\n",
        "                  events_matrix1.append(event)\n",
        "              itrack += 1\n",
        "\n",
        "          melody_chords_f.append(events_matrix1)\n",
        "\n",
        "          gfiles.append(f)\n",
        "\n",
        "      except KeyboardInterrupt:\n",
        "          print('Saving current progress and quitting...')\n",
        "          break\n",
        "\n",
        "      except Exception as e:\n",
        "          print('Error:', e)\n",
        "          continue\n",
        "\n",
        "  print('=' * 70)\n",
        "  print('Saving...')\n",
        "  print('=' * 70)\n",
        "  TMIDIX.Tegridy_Any_Pickle_File_Writer(melody_chords_f, full_path_to_save_processed_MIDIs)\n",
        "  print('=' * 70)\n",
        "  print('Done!')\n",
        "  print('=' * 70)\n",
        "\n",
        "  print('Making Medley...')\n",
        "  print('=' * 70)\n",
        "\n",
        "  song = []\n",
        "\n",
        "  time = 0\n",
        "\n",
        "  for m in tqdm(melody_chords_f):\n",
        "\n",
        "    pe = m[0]\n",
        "    for mm in m:\n",
        "      time += mm[1] - pe[1]\n",
        "\n",
        "      mmm = copy.deepcopy(mm)\n",
        "      mmm[1] = time\n",
        "      song.append(mmm)\n",
        "      pe = mm\n",
        "\n",
        "    time += pause_length_ms\n",
        "\n",
        "  print('=' * 70)\n",
        "  print('Done!')\n",
        "  print('=' * 70)\n",
        "\n",
        "  print('Writing final MIDI...')\n",
        "\n",
        "  detailed_stats = TMIDIX.Tegridy_ms_SONG_to_MIDI_Converter(song,\n",
        "                                                          output_signature = 'Multi Instrumental Medley',\n",
        "                                                          output_file_name = '/content/Multi-Instrumental-Medley',\n",
        "                                                          track_name='Project Los Angeles',\n",
        "                                                          list_of_MIDI_patches=[0, 0, 0, 0, 0, 0, 0, 0, 0, 0, 0, 0, 0, 0, 0, 0]\n",
        "                                                          )\n",
        "  print('=' * 70)"
      ],
      "metadata": {
        "id": "X8hKBbibRBTW",
        "cellView": "form"
      },
      "execution_count": null,
      "outputs": []
    },
    {
      "cell_type": "markdown",
      "metadata": {
        "id": "YzCMd94Tu_gz"
      },
      "source": [
        "# Congrats! You did it! :)"
      ]
    }
  ],
  "metadata": {
    "colab": {
      "private_outputs": true,
      "provenance": []
    },
    "kernelspec": {
      "display_name": "Python 3",
      "name": "python3"
    },
    "language_info": {
      "codemirror_mode": {
        "name": "ipython",
        "version": 3
      },
      "file_extension": ".py",
      "mimetype": "text/x-python",
      "name": "python",
      "nbconvert_exporter": "python",
      "pygments_lexer": "ipython3",
      "version": "3.9.7"
    }
  },
  "nbformat": 4,
  "nbformat_minor": 0
}